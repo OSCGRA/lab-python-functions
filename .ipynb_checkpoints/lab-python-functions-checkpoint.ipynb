{
 "cells": [
  {
   "cell_type": "markdown",
   "id": "25d7736c-ba17-4aff-b6bb-66eba20fbf4e",
   "metadata": {},
   "source": [
    "# Lab | Functions"
   ]
  },
  {
   "cell_type": "markdown",
   "id": "0c581062-8967-4d93-b06e-62833222f930",
   "metadata": {
    "tags": []
   },
   "source": [
    "## Exercise: Managing Customer Orders with Functions\n",
    "\n",
    "In the previous exercise, you improved the code for managing customer orders by using loops and flow control. Now, let's take it a step further and refactor the code by introducing functions.\n",
    "\n",
    "Follow the steps below to complete the exercise:\n",
    "\n",
    "1. Define a function named `initialize_inventory` that takes `products` as a parameter. Inside the function, implement the code for initializing the inventory dictionary using a loop and user input.\n",
    "\n",
    "2. Define a function named `get_customer_orders` that takes no parameters. Inside the function, implement the code for prompting the user to enter the product names using a loop. The function should return the `customer_orders` set.\n",
    "\n",
    "3. Define a function named `update_inventory` that takes `customer_orders` and `inventory` as parameters. Inside the function, implement the code for updating the inventory dictionary based on the customer orders.\n",
    "\n",
    "4. Define a function named `calculate_order_statistics` that takes `customer_orders` and `products` as parameters. Inside the function, implement the code for calculating the order statistics (total products ordered, and percentage of unique products ordered). The function should return these values.\n",
    "\n",
    "5. Define a function named `print_order_statistics` that takes `order_statistics` as a parameter. Inside the function, implement the code for printing the order statistics.\n",
    "\n",
    "6. Define a function named `print_updated_inventory` that takes `inventory` as a parameter. Inside the function, implement the code for printing the updated inventory.\n",
    "\n",
    "7. Call the functions in the appropriate sequence to execute the program and manage customer orders.\n",
    "\n",
    "Hints for functions:\n",
    "\n",
    "- Consider the input parameters required for each function and their return values.\n",
    "- Utilize function parameters and return values to transfer data between functions.\n",
    "- Test your functions individually to ensure they work correctly.\n",
    "\n",
    "\n"
   ]
  },
  {
   "cell_type": "code",
   "execution_count": 1,
   "id": "07389d38",
   "metadata": {},
   "outputs": [],
   "source": [
    "products = (\"t-shirt\", \"mug\", \"hat\", \"book\", \"keychain\")\n",
    "inventory={}\n",
    "customer_orders={} "
   ]
  },
  {
   "cell_type": "code",
   "execution_count": 2,
   "id": "f776b5f2",
   "metadata": {},
   "outputs": [],
   "source": [
    "#Define a function named initialize_inventory that takes products as a parameter. Inside the function, implement the code for initializing the inventory dictionary using a loop and user input.\n",
    "\n",
    "def initialize_inventory():\n",
    "    for product in products:\n",
    "        inventory[product] = int(input(\"How many \" + product + \" are in the inventory?: \"))\n",
    "    print(\"Inventory: \", inventory)"
   ]
  },
  {
   "cell_type": "code",
   "execution_count": 3,
   "id": "9c01963e",
   "metadata": {
    "scrolled": true
   },
   "outputs": [
    {
     "name": "stdout",
     "output_type": "stream",
     "text": [
      "How many t-shirt are in the inventory?: 50\n",
      "How many mug are in the inventory?: 25\n",
      "How many hat are in the inventory?: 65\n",
      "How many book are in the inventory?: 84\n",
      "How many keychain are in the inventory?: 52\n",
      "Inventory:  {'t-shirt': 50, 'mug': 25, 'hat': 65, 'book': 84, 'keychain': 52}\n"
     ]
    }
   ],
   "source": [
    "initialize_inventory() "
   ]
  },
  {
   "cell_type": "code",
   "execution_count": 6,
   "id": "f4b3f0aa",
   "metadata": {},
   "outputs": [],
   "source": [
    "#Define a function named get_customer_orders that takes no parameters. Inside the function, implement the code for prompting the user to enter the product names using a loop. The function should return the customer_orders set.\n",
    "\n",
    "def get_customer_orders():    \n",
    "    add_order =input(\"Do you want to add an order?? Y/N: \").lower()\n",
    "    \n",
    "    while add_order==\"y\":\n",
    "        product_order=input(\"Enter the product name: \")\n",
    "        quantity_order=int(input(\"Enter quantity: \"))\n",
    "        customer_orders.update({product_order:quantity_order})\n",
    "        add_order=str(input(\"Would you like to add other product in this order? Y/N:\")).lower()\n",
    "        \n",
    "        if add_order == \"n\":\n",
    "            break\n",
    "            print(\"Your order is: \", customer_orders)\n",
    "        elif add_order == \"y\":\n",
    "            continue\n",
    "        else:\n",
    "            print(\"Add the corrects parameters\")\n",
    "            add_order=str(input(\"Would you like to add other product in this order? Y/N:\")).lower()\n",
    "            \n",
    "            \n",
    "    if add_order==\"n\":\n",
    "        print(\"Thanks for your visit\")\n",
    "        \n",
    "        \n",
    "    else: \n",
    "        print(\"Thanks for your visit\")\n",
    "    "
   ]
  },
  {
   "cell_type": "code",
   "execution_count": 7,
   "id": "771b8e1c",
   "metadata": {},
   "outputs": [
    {
     "name": "stdout",
     "output_type": "stream",
     "text": [
      "Do you want to add an order?? Y/N: y\n",
      "Enter the product name: hat\n",
      "Enter quantity: 3\n",
      "Would you like to add other product in this order? Y/N:y\n",
      "Enter the product name: mug\n",
      "Enter quantity: 7\n",
      "Would you like to add other product in this order? Y/N:a\n",
      "Add the corrects parameters\n",
      "Would you like to add other product in this order? Y/N:y\n",
      "Enter the product name: keychain\n",
      "Enter quantity: 5\n",
      "Would you like to add other product in this order? Y/N:n\n",
      "Thanks for your visit\n"
     ]
    }
   ],
   "source": [
    "get_customer_orders()"
   ]
  },
  {
   "cell_type": "code",
   "execution_count": 20,
   "id": "9a7ea6f9",
   "metadata": {},
   "outputs": [],
   "source": [
    "#Define a function named update_inventory that takes customer_orders and inventory as parameters. Inside the function, implement the code for updating the inventory dictionary based on the customer orders.\n",
    "\n",
    "def update_inventory(customer_orders, inventory):\n",
    "    for product_order, quantity_order in customer_orders.items():\n",
    "        if product_order in inventory:\n",
    "            inventory[product_order]-=quantity_order\n",
    "        else:\n",
    "            break\n",
    "    "
   ]
  },
  {
   "cell_type": "code",
   "execution_count": 19,
   "id": "c5e3181d",
   "metadata": {},
   "outputs": [],
   "source": [
    "update_inventory(customer_orders, inventory)"
   ]
  },
  {
   "cell_type": "code",
   "execution_count": 10,
   "id": "b4de7a06",
   "metadata": {},
   "outputs": [],
   "source": [
    "#Define a function named calculate_order_statistics that takes customer_orders and products as parameters. Inside the function, implement the code for calculating the order statistics (total products ordered, and percentage of unique products ordered). The function should return these values.\n",
    "\n",
    "def calculate_order_statistics(customer_orders, inventory):\n",
    "    \n",
    "    total_ordered = int(sum(customer_orders.values()))\n",
    "    total_inventory = float(sum(inventory.values()))\n",
    "    \n",
    "    percentage_ordered = (total_ordered / total_inventory)\n",
    "    \n",
    "    return total_ordered, percentage_ordered\n",
    "\n",
    "\n",
    "    "
   ]
  },
  {
   "cell_type": "code",
   "execution_count": 11,
   "id": "45a694a5",
   "metadata": {},
   "outputs": [
    {
     "data": {
      "text/plain": [
       "(15, 0.05747126436781609)"
      ]
     },
     "execution_count": 11,
     "metadata": {},
     "output_type": "execute_result"
    }
   ],
   "source": [
    "calculate_order_statistics (customer_orders,inventory)"
   ]
  },
  {
   "cell_type": "code",
   "execution_count": 12,
   "id": "0d66cd48",
   "metadata": {},
   "outputs": [],
   "source": [
    "#Define a function named print_order_statistics that takes order_statistics as a parameter. Inside the function, implement the code for printing the order statistics.\n",
    "\n",
    "order_statistics=calculate_order_statistics (customer_orders,inventory)\n",
    "\n",
    "def print_order_statistics(order_statistics):\n",
    "    \n",
    "    print(\"Total Order: \", order_statistics[0])\n",
    "    print(\"Percentage Ordered of Total: \", order_statistics[1]*100, \"%\")"
   ]
  },
  {
   "cell_type": "code",
   "execution_count": 13,
   "id": "b47ca365",
   "metadata": {},
   "outputs": [
    {
     "name": "stdout",
     "output_type": "stream",
     "text": [
      "Total Order:  15\n",
      "Percentage Ordered of Total:  5.747126436781609 %\n"
     ]
    }
   ],
   "source": [
    "print_order_statistics(order_statistics)"
   ]
  },
  {
   "cell_type": "code",
   "execution_count": 22,
   "id": "8341091f",
   "metadata": {},
   "outputs": [],
   "source": [
    "#Define a function named print_updated_inventory that takes inventory as a parameter. Inside the function, implement the code for printing the updated inventory.\n",
    "\n",
    "def print_updated_inventory(inventory):    \n",
    "    print(\"Inventory: \", inventory)"
   ]
  },
  {
   "cell_type": "code",
   "execution_count": 23,
   "id": "54e29b3a",
   "metadata": {},
   "outputs": [
    {
     "name": "stdout",
     "output_type": "stream",
     "text": [
      "Inventory:  {'t-shirt': 50, 'mug': -10, 'hat': 50, 'book': 84, 'keychain': 27}\n"
     ]
    }
   ],
   "source": [
    "print_updated_inventory(inventory)"
   ]
  },
  {
   "cell_type": "code",
   "execution_count": null,
   "id": "7ce6e45a",
   "metadata": {},
   "outputs": [],
   "source": []
  }
 ],
 "metadata": {
  "kernelspec": {
   "display_name": "Python 3 (ipykernel)",
   "language": "python",
   "name": "python3"
  },
  "language_info": {
   "codemirror_mode": {
    "name": "ipython",
    "version": 3
   },
   "file_extension": ".py",
   "mimetype": "text/x-python",
   "name": "python",
   "nbconvert_exporter": "python",
   "pygments_lexer": "ipython3",
   "version": "3.11.5"
  }
 },
 "nbformat": 4,
 "nbformat_minor": 5
}
